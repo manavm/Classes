{
 "metadata": {
  "name": ""
 },
 "nbformat": 3,
 "nbformat_minor": 0,
 "worksheets": [
  {
   "cells": [
    {
     "cell_type": "code",
     "collapsed": false,
     "input": [
      "import math\n",
      "\n",
      "def euclidean_distance(point1, point2):\n",
      "    return math.sqrt((point1[0]-point2[0])**2 + (point1[1]-point2[1])**2)\n",
      "euclidean_distance((1,2),(9,5))"
     ],
     "language": "python",
     "metadata": {},
     "outputs": [
      {
       "metadata": {},
       "output_type": "pyout",
       "prompt_number": 8,
       "text": [
        "8.54400374531753"
       ]
      }
     ],
     "prompt_number": 8
    },
    {
     "cell_type": "code",
     "collapsed": false,
     "input": [
      "def veclean(vector):\n",
      "    sum = 0\n",
      "    for i in vector:\n",
      "        sum += i**2\n",
      "    return math.sqrt(sum)"
     ],
     "language": "python",
     "metadata": {},
     "outputs": [],
     "prompt_number": 10
    },
    {
     "cell_type": "code",
     "collapsed": false,
     "input": [
      "def printVecWithIndex(vector):\n",
      "    for i in range(len(vector)):\n",
      "        print i, vector[i]"
     ],
     "language": "python",
     "metadata": {},
     "outputs": [],
     "prompt_number": 12
    },
    {
     "cell_type": "code",
     "collapsed": false,
     "input": [
      "def print2VecWithIndex(vector1, vector2):\n",
      "    for i in range(len(vector1)):\n",
      "        print i, vector1[i], vector2[i]"
     ],
     "language": "python",
     "metadata": {},
     "outputs": [],
     "prompt_number": 14
    },
    {
     "cell_type": "code",
     "collapsed": false,
     "input": [
      "print2VecWithIndex([1,2,3],[4,5,6])"
     ],
     "language": "python",
     "metadata": {},
     "outputs": [
      {
       "output_type": "stream",
       "stream": "stdout",
       "text": [
        "0 1 4\n",
        "1 2 5\n",
        "2 3 6\n"
       ]
      }
     ],
     "prompt_number": 16
    },
    {
     "cell_type": "code",
     "collapsed": false,
     "input": [
      "def printproducts_withindex(vector1, vector2):\n",
      "    for i in range(len(vector1)):\n",
      "        print i, (vector1[i]*vector2[i])"
     ],
     "language": "python",
     "metadata": {},
     "outputs": [],
     "prompt_number": 17
    },
    {
     "cell_type": "code",
     "collapsed": false,
     "input": [
      "printproducts_withindex([2,3,4],[1,2,4])"
     ],
     "language": "python",
     "metadata": {},
     "outputs": [
      {
       "output_type": "stream",
       "stream": "stdout",
       "text": [
        "0 2\n",
        "1 6\n",
        "2 16\n"
       ]
      }
     ],
     "prompt_number": 18
    },
    {
     "cell_type": "code",
     "collapsed": false,
     "input": [
      "def dotproduct(vector1, vector2):\n",
      "    sum = 0\n",
      "    for i in range(len(vector1)):\n",
      "        sum += vector1[i]*vector2[i]\n",
      "    return sum\n",
      "print dotproduct([10,20,30],[333,222,111])"
     ],
     "language": "python",
     "metadata": {},
     "outputs": [
      {
       "output_type": "stream",
       "stream": "stdout",
       "text": [
        "11100\n"
       ]
      }
     ],
     "prompt_number": 22
    },
    {
     "cell_type": "code",
     "collapsed": false,
     "input": [
      "def cosine(vector1, vector2):\n",
      "    return dotproduct(vector1,vector2)/(veclean(vector1)*veclean(vector2))\n",
      "cosine([1,5,2,6],[3,3,3,3])"
     ],
     "language": "python",
     "metadata": {},
     "outputs": [
      {
       "metadata": {},
       "output_type": "pyout",
       "prompt_number": 23,
       "text": [
        "0.8616404368553291"
       ]
      }
     ],
     "prompt_number": 23
    },
    {
     "cell_type": "code",
     "collapsed": false,
     "input": [],
     "language": "python",
     "metadata": {},
     "outputs": []
    }
   ],
   "metadata": {}
  }
 ]
}
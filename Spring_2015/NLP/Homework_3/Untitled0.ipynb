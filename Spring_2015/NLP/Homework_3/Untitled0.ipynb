{
 "metadata": {
  "name": ""
 },
 "nbformat": 3,
 "nbformat_minor": 0,
 "worksheets": [
  {
   "cells": [
    {
     "cell_type": "code",
     "collapsed": false,
     "input": [
      "import nltk\n",
      "brown_news = nltk.corpus.brown.tagged_words(categories=\"news\")\n",
      "new_brown_news = [(i[0].lower(), i[1]) for i in brown_news]\n",
      "print new_brown_news[:10]\n",
      "for i in new_brown_news:\n",
      "    if i[0] == \"to\" and i[1] == \"TO-TL\":\n",
      "        print i[1]"
     ],
     "language": "python",
     "metadata": {},
     "outputs": [
      {
       "output_type": "stream",
       "stream": "stdout",
       "text": [
        "[('the', 'AT'), ('fulton', 'NP-TL'), ('county', 'NN-TL'), ('grand', 'JJ-TL'), ('jury', 'NN-TL'), ('said', 'VBD'), ('friday', 'NR'), ('an', 'AT'), ('investigation', 'NN'), ('of', 'IN')]\n",
        "TO-TL\n"
       ]
      }
     ],
     "prompt_number": 49
    },
    {
     "cell_type": "code",
     "collapsed": false,
     "input": [
      "import operator\n",
      "word_dict = {}\n",
      "pos_dict = {}\n",
      "for tag in new_brown_news:\n",
      "    if tag[0] in word_dict:\n",
      "        word_dict[tag[0]] += 1\n",
      "    else:\n",
      "        word_dict[tag[0]] = 1\n",
      "    if tag[1] in pos_dict:\n",
      "        pos_dict[tag[1]] += 1\n",
      "    else:\n",
      "        pos_dict[tag[1]] = 1\n",
      "word_sorted = sorted(word_dict.items(), key=operator.itemgetter(1))\n",
      "pos_sorted = sorted(pos_dict.items(), key=operator.itemgetter(1))\n",
      "\n",
      "print word_sorted[-1]\n",
      "print pos_sorted[-1]"
     ],
     "language": "python",
     "metadata": {},
     "outputs": [
      {
       "output_type": "stream",
       "stream": "stdout",
       "text": [
        "('the', 6386)\n",
        "('NN', 13162)\n"
       ]
      }
     ],
     "prompt_number": 50
    },
    {
     "cell_type": "code",
     "collapsed": false,
     "input": [
      "amb_dict = {}\n",
      "for tag in new_brown_news:\n",
      "    if tag[0] in amb_dict:\n",
      "        if tag[1] not in amb_dict[tag[0]]:\n",
      "            amb_dict[tag[0]].append(tag[1])\n",
      "    else:\n",
      "        amb_dict[tag[0]] = [tag[1]]\n",
      "total_count = 0\n",
      "word_count = 0\n",
      "max_ambi_word = \"\"\n",
      "max_ambi_count = 0\n",
      "for word in amb_dict.keys():\n",
      "    total_count += 1\n",
      "    if len(amb_dict[word]) > 1:\n",
      "        word_count += 1\n",
      "    if len(amb_dict[word]) > max_ambi_count:\n",
      "        max_ambi_count = len(amb_dict[word])\n",
      "        max_ambi_word = word\n",
      "print word_count\n",
      "print max_ambi_word, max_ambi_count\n",
      "print amb_dict[max_ambi_word]"
     ],
     "language": "python",
     "metadata": {},
     "outputs": [
      {
       "output_type": "stream",
       "stream": "stdout",
       "text": [
        "2166\n",
        "to 7\n",
        "['TO', 'IN', 'IN-HL', 'TO-HL', 'IN-TL', 'TO-TL', 'NPS']\n"
       ]
      }
     ],
     "prompt_number": 82
    },
    {
     "cell_type": "code",
     "collapsed": false,
     "input": [
      "brown_news = nltk.corpus.brown.tagged_sents(categories=\"news\")\n",
      "for sentence in brown_news:\n",
      "    for word in sentence:\n",
      "    \tnew_word = word[0].lower()\n",
      "        if  new_word == max_ambi_word:\n",
      "            if word[1] in amb_dict[new_word]:\n",
      "                amb_dict[new_word].remove(word[1])\n",
      "                print sentence"
     ],
     "language": "python",
     "metadata": {},
     "outputs": [
      {
       "output_type": "stream",
       "stream": "stdout",
       "text": [
        "[('The', 'AT'), ('September-October', 'NP'), ('term', 'NN'), ('jury', 'NN'), ('had', 'HVD'), ('been', 'BEN'), ('charged', 'VBN'), ('by', 'IN'), ('Fulton', 'NP-TL'), ('Superior', 'JJ-TL'), ('Court', 'NN-TL'), ('Judge', 'NN-TL'), ('Durwood', 'NP'), ('Pye', 'NP'), ('to', 'TO'), ('investigate', 'VB'), ('reports', 'NNS'), ('of', 'IN'), ('possible', 'JJ'), ('``', '``'), ('irregularities', 'NNS'), (\"''\", \"''\"), ('in', 'IN'), ('the', 'AT'), ('hard-fought', 'JJ'), ('primary', 'NN'), ('which', 'WDT'), ('was', 'BEDZ'), ('won', 'VBN'), ('by', 'IN'), ('Mayor-nominate', 'NN-TL'), ('Ivan', 'NP'), ('Allen', 'NP'), ('Jr.', 'NP'), ('.', '.')]\n",
        "[('It', 'PPS'), ('recommended', 'VBD'), ('that', 'CS'), ('Fulton', 'NP'), ('legislators', 'NNS'), ('act', 'VB'), ('``', '``'), ('to', 'TO'), ('have', 'HV'), ('these', 'DTS'), ('laws', 'NNS'), ('studied', 'VBN'), ('and', 'CC'), ('revised', 'VBN'), ('to', 'IN'), ('the', 'AT'), ('end', 'NN'), ('of', 'IN'), ('modernizing', 'VBG'), ('and', 'CC'), ('improving', 'VBG'), ('them', 'PPO'), (\"''\", \"''\"), ('.', '.')]\n",
        "[('Cost', 'NN-HL'), ('up', 'RP-HL'), ('to', 'IN-HL'), ('$37', 'NNS-HL'), ('a', 'AT-HL'), ('year', 'NN-HL')]\n",
        "[('Three', 'CD-HL'), ('groups', 'NNS-HL'), ('to', 'TO-HL'), ('meet', 'VB-HL')]"
       ]
      },
      {
       "output_type": "stream",
       "stream": "stdout",
       "text": [
        "\n",
        "[('On', 'IN'), ('the', 'AT'), ('clock', 'NN'), ('given', 'VBN'), ('him', 'PPO'), ('was', 'BEDZ'), ('the', 'AT'), ('inscription', 'NN'), (',', ','), ('``', '``'), ('For', 'IN-TL'), ('Outstanding', 'JJ-TL'), ('Contribution', 'NN-TL'), ('to', 'IN-TL'), ('Billiken', 'NP-TL'), ('Basketball', 'NN-TL'), (',', ','), ('1960-61', 'CD'), (\"''\", \"''\"), ('.', '.')]"
       ]
      },
      {
       "output_type": "stream",
       "stream": "stdout",
       "text": [
        "\n",
        "[('Last', 'AP'), ('October', 'NP'), ('he', 'PPS'), ('gave', 'VBD'), ('a', 'AT'), ('public', 'JJ'), ('speech', 'NN'), ('in', 'IN'), ('Washington', 'NP'), (',', ','), ('D.C.', 'NP'), ('entitled', 'VBD'), ('``', '``'), ('Are', 'BER-TL'), ('Women', 'NNS-TL'), ('Here', 'RB-TL'), ('To', 'TO-TL'), ('Stay', 'VB-TL'), (\"''\", \"''\"), ('?', '.'), ('?', '.')]"
       ]
      },
      {
       "output_type": "stream",
       "stream": "stdout",
       "text": [
        "\n",
        "[('Also', 'RB'), ('noted', 'VBN'), ('are', 'BER'), ('the', 'AT'), ('marriages', 'NNS'), ('of', 'IN'), ('Elizabeth', 'NP'), ('Browning', 'NP'), (',', ','), ('daughter', 'NN'), ('of', 'IN'), ('the', 'AT'), ('George', 'NP'), ('L.', 'NP'), ('Brownings', 'NPS'), (',', ','), ('to', 'NPS'), ('Austin', 'NP'), ('C.', 'NP'), ('Smith', 'NP'), ('Jr.', 'NP'), (';', '.'), (';', '.')]\n"
       ]
      }
     ],
     "prompt_number": 83
    },
    {
     "cell_type": "code",
     "collapsed": false,
     "input": [],
     "language": "python",
     "metadata": {},
     "outputs": [],
     "prompt_number": 5
    },
    {
     "cell_type": "code",
     "collapsed": false,
     "input": [],
     "language": "python",
     "metadata": {},
     "outputs": [],
     "prompt_number": 5
    },
    {
     "cell_type": "code",
     "collapsed": false,
     "input": [],
     "language": "python",
     "metadata": {},
     "outputs": []
    }
   ],
   "metadata": {}
  }
 ]
}
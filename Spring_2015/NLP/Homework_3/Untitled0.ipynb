{
 "metadata": {
  "name": ""
 },
 "nbformat": 3,
 "nbformat_minor": 0,
 "worksheets": [
  {
   "cells": [
    {
     "cell_type": "code",
     "collapsed": false,
     "input": [
      "import nltk\n",
      "brown_news = nltk.corpus.brown.tagged_words(categories=\"news\")\n",
      "new_brown_news = [(i[0].lower(), i[1]) for i in brown_news]\n",
      "new_brown_news[:10]"
     ],
     "language": "python",
     "metadata": {},
     "outputs": [
      {
       "metadata": {},
       "output_type": "pyout",
       "prompt_number": 7,
       "text": [
        "[('the', 'AT'),\n",
        " ('fulton', 'NP-TL'),\n",
        " ('county', 'NN-TL'),\n",
        " ('grand', 'JJ-TL'),\n",
        " ('jury', 'NN-TL'),\n",
        " ('said', 'VBD'),\n",
        " ('friday', 'NR'),\n",
        " ('an', 'AT'),\n",
        " ('investigation', 'NN'),\n",
        " ('of', 'IN')]"
       ]
      }
     ],
     "prompt_number": 7
    },
    {
     "cell_type": "code",
     "collapsed": false,
     "input": [
      "import operator\n",
      "word_dict = {}\n",
      "pos_dict = {}\n",
      "for tag in new_brown_news:\n",
      "    if tag[0] in word_dict:\n",
      "        word_dict[tag[0]] += 1\n",
      "    else:\n",
      "        word_dict[tag[0]] = 1\n",
      "    if tag[1] in pos_dict:\n",
      "        pos_dict[tag[1]] += 1\n",
      "    else:\n",
      "        pos_dict[tag[1]] = 1\n",
      "word_sorted = sorted(word_dict.items(), key=operator.itemgetter(1))\n",
      "pos_sorted = sorted(pos_dict.items(), key=operator.itemgetter(1))\n",
      "\n",
      "print word_sorted[-1]\n",
      "print pos_sorted[-1]"
     ],
     "language": "python",
     "metadata": {},
     "outputs": [
      {
       "output_type": "stream",
       "stream": "stdout",
       "text": [
        "('the', 6386)\n",
        "('NN', 13162)\n"
       ]
      }
     ],
     "prompt_number": 16
    },
    {
     "cell_type": "code",
     "collapsed": false,
     "input": [
      "amb_dict = {}\n",
      "for tag in new_brown_news:\n",
      "    if tag[0] in amb_dict:\n",
      "        amb_dict[tag[0]].add(tag[1])\n",
      "    else:\n",
      "        amb_dict[tag[0]] = set(tag[1])\n",
      "total_count = 0\n",
      "word_count = 0\n",
      "max_ambi_word = \"\"\n",
      "max_ambi_count = 0\n",
      "for word in amb_dict.keys():\n",
      "    total_count += 1\n",
      "    if len(amb_dict[word]) > 1:\n",
      "        word_count += 1\n",
      "    if len(amb_dict[word]) > max_ambi_count:\n",
      "        max_ambi_count = len(amb_dict[word])\n",
      "        max_ambi_word = word\n",
      "print word_count\n",
      "print max_ambi_word, max_ambi_count\n"
     ],
     "language": "python",
     "metadata": {},
     "outputs": [
      {
       "output_type": "stream",
       "stream": "stdout",
       "text": [
        "10952\n",
        "house 11\n"
       ]
      }
     ],
     "prompt_number": 34
    },
    {
     "cell_type": "code",
     "collapsed": false,
     "input": [
      "brown_news = nltk.corpus.brown.tagged_sents(categories=\"news\")\n",
      "brown_news[0]"
     ],
     "language": "python",
     "metadata": {},
     "outputs": [
      {
       "metadata": {},
       "output_type": "pyout",
       "prompt_number": 41,
       "text": [
        "[('The', 'AT'),\n",
        " ('Fulton', 'NP-TL'),\n",
        " ('County', 'NN-TL'),\n",
        " ('Grand', 'JJ-TL'),\n",
        " ('Jury', 'NN-TL'),\n",
        " ('said', 'VBD'),\n",
        " ('Friday', 'NR'),\n",
        " ('an', 'AT'),\n",
        " ('investigation', 'NN'),\n",
        " ('of', 'IN'),\n",
        " (\"Atlanta's\", 'NP$'),\n",
        " ('recent', 'JJ'),\n",
        " ('primary', 'NN'),\n",
        " ('election', 'NN'),\n",
        " ('produced', 'VBD'),\n",
        " ('``', '``'),\n",
        " ('no', 'AT'),\n",
        " ('evidence', 'NN'),\n",
        " (\"''\", \"''\"),\n",
        " ('that', 'CS'),\n",
        " ('any', 'DTI'),\n",
        " ('irregularities', 'NNS'),\n",
        " ('took', 'VBD'),\n",
        " ('place', 'NN'),\n",
        " ('.', '.')]"
       ]
      }
     ],
     "prompt_number": 41
    },
    {
     "cell_type": "code",
     "collapsed": false,
     "input": [],
     "language": "python",
     "metadata": {},
     "outputs": []
    }
   ],
   "metadata": {}
  }
 ]
}
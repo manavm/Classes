{
 "metadata": {
  "name": ""
 },
 "nbformat": 3,
 "nbformat_minor": 0,
 "worksheets": [
  {
   "cells": [
    {
     "cell_type": "code",
     "collapsed": false,
     "input": [
      "import nltk\n",
      "from nltk.corpus import brown\n",
      "brown_tagged_words = brown.tagged_words(categories = \"news\")\n",
      "tagged_dict = {}\n",
      "for tag in range(len(brown_tagged_words)-1):\n",
      "    if brown_tagged_words[tag][1][0] == 'V':\n",
      "        if brown_tagged_words[tag+1][1] == 'IN':\n",
      "            if brown_tagged_words[tag][0] in tagged_dict:\n",
      "\t\t\t\ttagged_dict[brown_tagged_words[tag][0]].append(brown_tagged_words[tag+1][0])\n",
      "            else:\n",
      "                tagged_dict[brown_tagged_words[tag][0]] = [brown_tagged_words[tag+1][0]]\n",
      "\n",
      "max_verb = \"\"\n",
      "max_count = 0\n",
      "for i in tagged_dict:\n",
      "\tif len(set(tagged_dict[i])) > max_count:\n",
      "\t\tmax_count = len(set(tagged_dict[i]))\n",
      "\t\tmax_verb = i\n",
      "print max_count\n",
      "print max_verb"
     ],
     "language": "python",
     "metadata": {},
     "outputs": [
      {
       "output_type": "stream",
       "stream": "stdout",
       "text": [
        "11\n",
        "made\n"
       ]
      }
     ],
     "prompt_number": 44
    },
    {
     "cell_type": "code",
     "collapsed": false,
     "input": [
      "def word_frequencies():\n",
      "\tf = open('pg345.txt')\n",
      "\ttext = f.read()\n",
      "\tword_list = text.split()\n",
      "\tnew_word_list = []\n",
      "\tfor word in word_list:\n",
      "\t    word = word.lower().lstrip(string.punctuation).rstrip(string.punctuation)\n",
      "\t    new_word_list.append(word)\n",
      "\t    \n",
      "\tword_freq = nltk.FreqDist(new_word_list)\n",
      "\tbigram_list = nltk.bigrams(new_word_list)\n",
      "\tbigram_freq = nltk.FreqDist(bigram_list)\n",
      "\n",
      "\tfinal_words = []\n",
      "\tfinal_bigrams = []\n",
      "\n",
      "\tfor word in word_freq.keys()[:10]:\n",
      "\t    final_words.append((word, word_freq[word]))\n",
      "\tfor bigram in bigram_freq.keys()[:10]:\n",
      "\t    final_bigrams.append((bigram, bigram_freq[bigram]))\n",
      "\n",
      "\treturn final_words, final_bigrams\n",
      "\n",
      "word_frequencies()"
     ],
     "language": "python",
     "metadata": {},
     "outputs": [
      {
       "metadata": {},
       "output_type": "pyout",
       "prompt_number": 45,
       "text": [
        "([('the', 8036),\n",
        "  ('and', 5896),\n",
        "  ('i', 4712),\n",
        "  ('to', 4539),\n",
        "  ('of', 3738),\n",
        "  ('a', 2961),\n",
        "  ('in', 2558),\n",
        "  ('he', 2543),\n",
        "  ('that', 2455),\n",
        "  ('it', 2141)],\n",
        " [(('of', 'the'), 896),\n",
        "  (('in', 'the'), 629),\n",
        "  (('', ''), 526),\n",
        "  (('to', 'the'), 383),\n",
        "  (('and', 'the'), 340),\n",
        "  (('and', 'i'), 329),\n",
        "  (('on', 'the'), 324),\n",
        "  (('it', 'was'), 311),\n",
        "  (('it', 'is'), 303),\n",
        "  (('van', 'helsing'), 299)])"
       ]
      }
     ],
     "prompt_number": 45
    },
    {
     "cell_type": "code",
     "collapsed": false,
     "input": [
      "p_there =  float(word_freq[\"there\"])/len(new_word_list)\n",
      "p_isthere = float(bigramfreqdist[\"there\",\"is\"])/freqdist[\"there\"]\n",
      "p_isa = float(bigramfreqdist[\"is\",\"a\"])/freqdist[\"is\"]\n",
      "p_avampire = float(bigramfreqdist[\"a\",\"vampire\"])/freqdist[\"a\"]\n",
      "p_vampirein = float(bigramfreqdist[\"vampire\",\"in\"])/freqdist[\"vampire\"]\n",
      "p_inthe = float(bigramfreqdist[\"in\",\"the\"])/freqdist[\"in\"]\n",
      "p_theroom = float(bigramfreqdist[\"the\",\"room\"])/freqdist[\"the\"]\n",
      "print p_there * p_isthere * p_isa * p_avampire * p_vampirein * p_inthe * p_theroom"
     ],
     "language": "python",
     "metadata": {},
     "outputs": [
      {
       "output_type": "stream",
       "stream": "stdout",
       "text": [
        "3.1370289394e-11\n"
       ]
      }
     ],
     "prompt_number": 53
    },
    {
     "cell_type": "code",
     "collapsed": false,
     "input": [
      "freqdist"
     ],
     "language": "python",
     "metadata": {},
     "outputs": [
      {
       "metadata": {},
       "output_type": "pyout",
       "prompt_number": 51,
       "text": [
        "<FreqDist with 10932 samples and 164423 outcomes>"
       ]
      }
     ],
     "prompt_number": 51
    },
    {
     "cell_type": "code",
     "collapsed": false,
     "input": [
      "nltk.FreqDist(\"the\")"
     ],
     "language": "python",
     "metadata": {},
     "outputs": [
      {
       "metadata": {},
       "output_type": "pyout",
       "prompt_number": 48,
       "text": [
        "<FreqDist with 3 samples and 3 outcomes>"
       ]
      }
     ],
     "prompt_number": 48
    },
    {
     "cell_type": "code",
     "collapsed": false,
     "input": [
      "cfreq = nltk.ConditionalFreqDist(bigram_list)\n",
      "cprob = nltk.ConditionalProbDist(cfreq, nltk.ELEProbDist)\n",
      "cp_isthere = cprob[\"there\"].prob(\"is\")\n",
      "cp_isa = cprob[\"is\"].prob(\"a\")\n",
      "cp_avampire = cprob[\"a\"].prob(\"vampire\")\n",
      "cp_vampirein = cprob[\"vampire\"].prob(\"in\")\n",
      "cp_inthe = cprob[\"in\"].prob(\"the\")\n",
      "cp_theroom = cprob[\"the\"].prob(\"room\")\n",
      "print p_there * cp_isthere * cp_isa * cp_avampire * cp_vampirein * cp_inthe * cp_theroom"
     ],
     "language": "python",
     "metadata": {},
     "outputs": [
      {
       "output_type": "stream",
       "stream": "stdout",
       "text": [
        "1.66589909743e-11\n"
       ]
      }
     ],
     "prompt_number": 54
    },
    {
     "cell_type": "code",
     "collapsed": false,
     "input": [
      "import re\n",
      "f = open('pg1184.txt')\n",
      "count_text = f.read()\n",
      "for line in count_text.splitlines():\n",
      "\tfor word in line.split():\t\n",
      "\t\tmatching_exp = re.match(r'(stand|stood|stands|standing)$',word)\n",
      "\t\tif matching_exp:\n",
      "\t\t\tprint line[(line.find(word)-20):(line.find(word)+21)]"
     ],
     "language": "python",
     "metadata": {},
     "outputs": [
      {
       "output_type": "stream",
       "stream": "stdout",
       "text": [
        "eady eased off, and standing by\n",
        "no doubt. Well, you stand well with M. M\n",
        "\n",
        ", because unable to stand\n",
        " feel any desire to stand up in his defe\n",
        "t calm and smiling, stood the\n"
       ]
      },
      {
       "output_type": "stream",
       "stream": "stdout",
       "text": [
        "\n",
        "r, she advanced and stood before him. Da\n",
        "\n",
        "\n",
        "robably have rather stood opposite the m\n",
        "n, whose father now stood higher at\n",
        "lage. Sometimes she stood mute\n",
        "e"
       ]
      },
      {
       "output_type": "stream",
       "stream": "stdout",
       "text": [
        "\n",
        "rspiration were now standing on his brow\n",
        "t on the table, and stood with his head \n",
        "\n",
        ", from the king who stands\n",
        " where he found him standing in the midd"
       ]
      },
      {
       "output_type": "stream",
       "stream": "stdout",
       "text": [
        "\n",
        "to stand on end.\n",
        "\n",
        "\n",
        "les harbor, and was standing out to sea\n",
        "n shore, she should stand out to sea;\n",
        "\n",
        "until it tacked and stood towards him. T"
       ]
      },
      {
       "output_type": "stream",
       "stream": "stdout",
       "text": [
        "\n",
        "\n",
        "re-opened them, and stood motionless\n",
        " as this gave him a standing which a Fre\n",
        "\n",
        "s of water that was standing"
       ]
      },
      {
       "output_type": "stream",
       "stream": "stdout",
       "text": [
        "\n",
        "f a sub-lieutenant, stood before her. It\n",
        "which he would have stood firm against t\n",
        " shoulder, Emmanuel stood in the\n",
        "ed at the same spot standing mute and mo\n",
        " young man remained standing and motionl\n",
        "remained an instant standing with his ey\n",
        "greater security we stand out to sea. Th\n",
        "but she is built to stand any weather. S\n",
        ", surmounted with a stand of Arabian swo\n",
        "erious stranger was standing up looking "
       ]
      },
      {
       "output_type": "stream",
       "stream": "stdout",
       "text": [
        "\n",
        "of a huge pine that stood in\n",
        " pore, and his hair stood\n",
        "\n",
        "cate green branches stood out in\n",
        " attention of Franz stood in a kind\n",
        "\n",
        "of all these riches stood before the two\n",
        "is eyes closed, was standing"
       ]
      },
      {
       "output_type": "stream",
       "stream": "stdout",
       "text": [
        "\n",
        "from his pallor, he stood in great need;\n",
        "riend of ten years' standing could not h\n",
        "uare chamber, where stood all the bandit\n",
        "\n",
        "sed. The young man, standing up before h\n",
        "\n"
       ]
      },
      {
       "output_type": "stream",
       "stream": "stdout",
       "text": [
        "\n",
        " clouds, and there, standing where you d\n",
        ".\n",
        "umming a song as he stood warming his\n",
        "t the jeweller, who stood reeking with t\n",
        "ted that of which I stood accused. When \n",
        "t possibly I am now standing on\n",
        "observed the horses standing a few\n",
        "hich it was spoken, stood wholly unmoved\n",
        " had passed as they stood upon the terra\n",
        " He found the count standing before some\n",
        "hile Lucien Debray, standing before a sm\n",
        "\n",
        "with their perfume, stood in"
       ]
      },
      {
       "output_type": "stream",
       "stream": "stdout",
       "text": [
        "\n",
        "\n",
        " was a young woman, standing close to th\n",
        "\n",
        "ut to sleep all who stand in\n",
        "nce in the parterre standing up and dire\n",
        "ections to Ali, who stood in the lobby, \n",
        "high in her es\n",
        "tered, and remained standing"
       ]
      },
      {
       "output_type": "stream",
       "stream": "stdout",
       "text": [
        "\n",
        " that a man of your standing should be e\n",
        "\n",
        "\n",
        "d his colleague was standing before the\n",
        "ted for\"--Bertuccio stood at the open do"
       ]
      },
      {
       "output_type": "stream",
       "stream": "stdout",
       "text": [
        "\n",
        "nglish fashion, was standing on tiptoe t\n",
        "hind me the rock. I stood in the same at\n",
        "lars had risen, and stood before the pro\n",
        "f the count's house stood out boldly aga\n",
        "me de Morcerf, who, standing before"
       ]
      },
      {
       "output_type": "stream",
       "stream": "stdout",
       "text": [
        "\n",
        "n that question. He stood badly with the\n",
        "sobs. The servants, standing in the door\n",
        " corpse.\" Villefort stood with his mouth\n",
        "ll table upon which stood a\n",
        "ad events every one stood in need of\n",
        "\n",
        "himself. The doctor stood before him,\n",
        "\n",
        "d Franz, whose hair stood on end; \"you, "
       ]
      },
      {
       "output_type": "stream",
       "stream": "stdout",
       "text": [
        "\n",
        "\n",
        "\n",
        "\n",
        "at the perspiration stood upon her pale \n",
        " the count's horses standing at Gosset's\n",
        "re to enable him to stand\n",
        " his hair seemed to stand on end, he spr\n",
        "tle of lemonade was standing just by his\n",
        "e parts empty still standing on the wait\n"
       ]
      },
      {
       "output_type": "stream",
       "stream": "stdout",
       "text": [
        "\n",
        "d carbine, and Ali, standing near him, h\n",
        "\n",
        "aring nothing more, stood erect, and whi\n",
        "\n",
        "\n",
        "\n",
        "\n",
        "elieved her. Albert stood one moment spe"
       ]
      },
      {
       "output_type": "stream",
       "stream": "stdout",
       "text": [
        "\n",
        " back. She had been standing at the door\n",
        "\n",
        "a hackney-coach was standing in the midd\n",
        "e; the perspiration stood\n",
        "opped short, and he stood"
       ]
      },
      {
       "output_type": "stream",
       "stream": "stdout",
       "text": [
        "\n",
        "our breast; the man standing before you,\n",
        " towards heaven and stood transfixed, as\n",
        "\n",
        "ry and for a moment stood\n",
        "und, and saw Morrel standing at the door\n",
        "\n",
        "ng sleep. They both stood in\n",
        "\n",
        "de Boville, who was standing\n",
        "k and glaring eyes, stood in an attitude\n",
        "ket-book, and then, standing pale"
       ]
      },
      {
       "output_type": "stream",
       "stream": "stdout",
       "text": [
        "\n",
        "n both cheeks, then stood looking at\n",
        "\n",
        " the poplars, which stood\n",
        "\n",
        "to him; they merely stood aside to let h\n",
        "me de Villefort was standing erect, pale\n",
        "om a long walk, was standing at the foot\n",
        "ir grasp. The count stood alone, and at \n",
        "thway!\n",
        "\n"
       ]
      },
      {
       "output_type": "stream",
       "stream": "stdout",
       "text": [
        "\n",
        "\n",
        "\n",
        "\n",
        "\n",
        "e its usual height, stood out in relief \n",
        "thrown back, and he stood in the attitud\n",
        " around; Haidee was standing pale, motio\n",
        "\n"
       ]
      }
     ],
     "prompt_number": 56
    },
    {
     "cell_type": "code",
     "collapsed": false,
     "input": [
      "prob_there =  (word_freq[\"there\"])/len(modifiedtext)\n",
      "prob_is_there = (bigram_freq[\"there\",\"is\"])/word_freq[\"there\"]\n",
      "prob_is_a = (bigram_freq[\"is\",\"a\"])/word_freq[\"is\"]\n",
      "prob_a_vampire = (bigram_freq[\"a\",\"vampire\"])/word_freq[\"a\"]\n",
      "prob_vampire_in = (bigram_freq[\"vampire\",\"in\"])/word_freq[\"vampire\"]\n",
      "prob_in_the = (bigram_freq[\"in\",\"the\"])/word_freq[\"in\"]\n",
      "prob_the_room = (bigram_freq[\"the\",\"room\"])/word_freq[\"the\"]\n",
      "print (prob_there * prob_is_there * prob_is_a * prob_a_vampire * prob_vampire_in * prob_in_the * prob_the_room)"
     ],
     "language": "python",
     "metadata": {},
     "outputs": [
      {
       "output_type": "stream",
       "stream": "stdout",
       "text": [
        "0\n"
       ]
      }
     ],
     "prompt_number": 60
    },
    {
     "cell_type": "code",
     "collapsed": false,
     "input": [],
     "language": "python",
     "metadata": {},
     "outputs": []
    }
   ],
   "metadata": {}
  }
 ]
}
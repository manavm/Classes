{
 "metadata": {
  "name": ""
 },
 "nbformat": 3,
 "nbformat_minor": 0,
 "worksheets": [
  {
   "cells": [
    {
     "cell_type": "code",
     "collapsed": false,
     "input": [
      "import nltk\n",
      "import string\n",
      "f = open('pg345.txt')\n",
      "text = f.read()\n",
      "word_list = text.split()\n",
      "new_word_list = []\n",
      "for word in word_list:\n",
      "    word = word.lower().lstrip(string.punctuation).rstrip(string.punctuation)\n",
      "    new_word_list.append(word)\n",
      "    \n",
      "word_freq = nltk.FreqDist(new_word_list)\n",
      "bigram_list = nltk.bigrams(new_word_list)\n",
      "bigram_freq = nltk.FreqDist(bigram_list)\n",
      "\n",
      "final_words = []\n",
      "final_bigrams = []\n",
      "\n",
      "for word in word_freq.keys()[:10]:\n",
      "    final_words.append((word, word_freq[word]))\n",
      "for bigram in bigram_freq.keys()[:10]:\n",
      "    final_bigrams.append((bigram, bigram_freq[bigram]))\n",
      "\n",
      "return final_words, final_bigrams"
     ],
     "language": "python",
     "metadata": {},
     "outputs": [
      {
       "ename": "SyntaxError",
       "evalue": "'return' outside function (<ipython-input-14-28963a413528>, line 23)",
       "output_type": "pyerr",
       "traceback": [
        "\u001b[0;36m  File \u001b[0;32m\"<ipython-input-14-28963a413528>\"\u001b[0;36m, line \u001b[0;32m23\u001b[0m\n\u001b[0;31m    return final_words, final_bigrams\u001b[0m\n\u001b[0;31mSyntaxError\u001b[0m\u001b[0;31m:\u001b[0m 'return' outside function\n"
       ]
      }
     ],
     "prompt_number": 14
    },
    {
     "cell_type": "code",
     "collapsed": false,
     "input": [
      "word_freq"
     ],
     "language": "python",
     "metadata": {},
     "outputs": [
      {
       "metadata": {},
       "output_type": "pyout",
       "prompt_number": 15,
       "text": [
        "<FreqDist with 10932 samples and 164423 outcomes>"
       ]
      }
     ],
     "prompt_number": 15
    },
    {
     "cell_type": "code",
     "collapsed": false,
     "input": [
      "prob_there =  float(word_freq[\"there\"])/len(new_word_list)\n",
      "prob_isthere = float(bigram_freq[\"there\",\"is\"])/word_freq[\"there\"]\n",
      "prob_is_a = float(bigram_freq[\"is\",\"a\"])/word_freq[\"is\"]\n",
      "prob_a_vampire = float(bigram_freq[\"a\",\"vampire\"])/word_freq[\"a\"]\n",
      "prob_vampire_in = float(bigram_freq[\"vampire\",\"in\"])/word_freq[\"vampire\"]\n",
      "prob_in_the = float(bigram_freq[\"in\",\"the\"])/word_freq[\"in\"]\n",
      "prob_the_room = float(bigram_freq[\"the\",\"room\"])/word_freq[\"the\"]\n",
      "print prob_there * prob_isthere * prob_is_a * prob_a_vampire * prob_vampire_in * prob_in_the * prob_the_room"
     ],
     "language": "python",
     "metadata": {},
     "outputs": [
      {
       "output_type": "stream",
       "stream": "stdout",
       "text": [
        "3.1370289394e-11\n"
       ]
      }
     ],
     "prompt_number": 19
    },
    {
     "cell_type": "code",
     "collapsed": false,
     "input": [
      "cfreq = nltk.ConditionalFreqDist(bigram_list)\n",
      "cprob = nltk.ConditionalProbDist(cfreq, nltk.MLEProbDist)\n",
      "cprob_is_there = cprob[\"there\"].prob(\"is\")\n",
      "cprob_is_a = cprob[\"is\"].prob(\"a\")\n",
      "cprob_a_vampire = cprob[\"a\"].prob(\"vampire\")\n",
      "cprob_vampire_in = cprob[\"vampire\"].prob(\"in\")\n",
      "cprob_in_the = cprob[\"in\"].prob(\"the\")\n",
      "cprob_the_room = cprob[\"the\"].prob(\"room\")\n",
      "print prob_there * cprob_is_there * cprob_is_a * cprob_a_vampire * cprob_vampire_in * cprob_in_the * cprob_the_room"
     ],
     "language": "python",
     "metadata": {},
     "outputs": [
      {
       "output_type": "stream",
       "stream": "stdout",
       "text": [
        "3.1370289394e-11\n"
       ]
      }
     ],
     "prompt_number": 24
    },
    {
     "cell_type": "code",
     "collapsed": false,
     "input": [
      "import re\n",
      "f = open('pg1184.txt')\n",
      "text = f.read()\n",
      "realtext = text[text.find(\"*** START OF THIS PROJECT GUTENBERG EBOOK THE COUNT OF MONTE CRISTO ***\") + len(\"*** START OF THIS PROJECT GUTENBERG EBOOK THE COUNT OF MONTE CRISTO ***\"):text.find(\"*** END OF THIS PROJECT GUTENBERG EBOOK THE COUNT OF MONTE CRISTO ***\")]\n",
      "for line in realtext.splitlines():\n",
      "\tfor word in line.split():\t\n",
      "\t\tmatch = re.match(r'(stand|stood|stands|standing)$',word)\n",
      "\t\tif match:\n",
      "\t\t\tprint line[line.find(word)-20:line.find(word)+20]"
     ],
     "language": "python",
     "metadata": {},
     "outputs": [
      {
       "output_type": "stream",
       "stream": "stdout",
       "text": [
        "eady eased off, and standing by\n",
        "no doubt. Well, you stand well with M. M\n",
        "\n",
        ", because unable to stand\n",
        " feel any desire to stand up in his defe\n",
        "t calm and smiling, stood the\n"
       ]
      },
      {
       "output_type": "stream",
       "stream": "stdout",
       "text": [
        "\n",
        "r, she advanced and stood before him. Da\n",
        "\n",
        "\n",
        "robably have rather stood opposite the m\n",
        "n, whose father now stood higher at\n",
        "lage. Sometimes she stood mute\n",
        "e\n",
        "rspiration were now standing on his brow\n",
        "t on the table, and stood with his head "
       ]
      },
      {
       "output_type": "stream",
       "stream": "stdout",
       "text": [
        "\n",
        "\n",
        ", from the king who stands\n",
        " where he found him standing in the midd\n",
        "to stand on end.\n",
        "\n",
        "\n",
        "les harbor, and was standing out to sea\n",
        "n shore, she should stand out to sea;\n",
        "\n",
        "until it tacked and stood towards him. T\n",
        "\n",
        "re-opened them, and stood motionless\n",
        " as this gave him a standing which a Fre"
       ]
      },
      {
       "output_type": "stream",
       "stream": "stdout",
       "text": [
        "\n",
        "\n",
        "s of water that was standing\n",
        "f a sub-lieutenant, stood before her. It\n",
        "which he would have stood firm against t\n",
        " shoulder, Emmanuel stood in the\n",
        "ed at the same spot standing mute and mo"
       ]
      },
      {
       "output_type": "stream",
       "stream": "stdout",
       "text": [
        "\n",
        " young man remained standing and motionl\n",
        "remained an instant standing with his ey\n",
        "greater security we stand out to sea. Th\n",
        "but she is built to stand any weather. S\n",
        ", surmounted with a stand of Arabian swo\n",
        "erious stranger was standing up looking \n",
        "of a huge pine that stood in\n",
        " pore, and his hair stood\n",
        "\n",
        "cate green branches stood out in\n",
        " attention of Franz stood in a kind\n"
       ]
      },
      {
       "output_type": "stream",
       "stream": "stdout",
       "text": [
        "\n",
        "of all these riches stood before the two\n",
        "is eyes closed, was standing\n",
        "from his pallor, he stood in great need;\n",
        "riend of ten years' standing could not h\n",
        "uare chamber, where stood all the bandit\n"
       ]
      },
      {
       "output_type": "stream",
       "stream": "stdout",
       "text": [
        "\n",
        "sed. The young man, standing up before h\n",
        "\n",
        "\n",
        " clouds, and there, standing where you d\n",
        ".\n",
        "umming a song as he stood warming his\n",
        "t the jeweller, who stood reeking with t\n",
        "ted that of which I stood accused. When \n",
        "t possibly I am now standing on\n",
        "observed the horses standing a few\n",
        "hich it was spoken, stood wholly unmoved\n",
        " had passed as they stood upon the terra\n",
        " He found the count standing before some\n",
        "hile Lucien Debray, standing before a sm\n"
       ]
      },
      {
       "output_type": "stream",
       "stream": "stdout",
       "text": [
        "\n",
        "with their perfume, stood in\n",
        "\n",
        " was a young woman, standing close to th\n",
        "\n",
        "ut to sleep all who stand in\n",
        "nce in the parterre standing up and dire\n",
        "ections to Ali, who stood in the lobby, \n",
        "high in her es"
       ]
      },
      {
       "output_type": "stream",
       "stream": "stdout",
       "text": [
        "\n",
        "tered, and remained standing\n",
        " that a man of your standing should be e\n",
        "\n",
        "\n",
        "d his colleague was standing before the\n",
        "ted for\"--Bertuccio stood at the open do"
       ]
      },
      {
       "output_type": "stream",
       "stream": "stdout",
       "text": [
        "\n",
        "nglish fashion, was standing on tiptoe t\n",
        "hind me the rock. I stood in the same at\n",
        "lars had risen, and stood before the pro\n",
        "f the count's house stood out boldly aga\n",
        "me de Morcerf, who, standing before\n",
        "n that question. He stood badly with the\n",
        "sobs. The servants, standing in the door\n",
        " corpse.\" Villefort stood with his mouth\n",
        "ll table upon which stood a\n",
        "ad events every one stood in need of\n"
       ]
      },
      {
       "output_type": "stream",
       "stream": "stdout",
       "text": [
        "\n",
        "himself. The doctor stood before him,\n",
        "\n",
        "d Franz, whose hair stood on end; \"you, \n",
        "\n",
        "\n",
        "\n",
        "at the perspiration stood upon her pale \n",
        " the count's horses standing at Gosset's\n",
        "re to enable him to stand"
       ]
      },
      {
       "output_type": "stream",
       "stream": "stdout",
       "text": [
        "\n",
        " his hair seemed to stand on end, he spr\n",
        "tle of lemonade was standing just by his\n",
        "e parts empty still standing on the wait\n",
        "\n",
        "d carbine, and Ali, standing near him, h\n",
        "\n",
        "aring nothing more, stood erect, and whi\n",
        "\n",
        "\n",
        "\n",
        "\n",
        "elieved her. Albert stood one moment spe\n",
        " back. She had been standing at the door"
       ]
      },
      {
       "output_type": "stream",
       "stream": "stdout",
       "text": [
        "\n",
        "\n",
        "a hackney-coach was standing in the midd\n",
        "e; the perspiration stood\n",
        "opped short, and he stood\n",
        "our breast; the man standing before you,"
       ]
      },
      {
       "output_type": "stream",
       "stream": "stdout",
       "text": [
        "\n",
        " towards heaven and stood transfixed, as\n",
        "\n",
        "ry and for a moment stood\n",
        "und, and saw Morrel standing at the door\n",
        "\n",
        "ng sleep. They both stood in\n",
        "\n",
        "de Boville, who was standing\n",
        "k and glaring eyes, stood in an attitude\n",
        "ket-book, and then, standing pale\n",
        "n both cheeks, then stood looking at\n"
       ]
      },
      {
       "output_type": "stream",
       "stream": "stdout",
       "text": [
        "\n",
        " the poplars, which stood\n",
        "\n",
        "to him; they merely stood aside to let h\n",
        "me de Villefort was standing erect, pale\n",
        "om a long walk, was standing at the foot\n",
        "ir grasp. The count stood alone, and at \n",
        "thway!\n",
        "\n"
       ]
      },
      {
       "output_type": "stream",
       "stream": "stdout",
       "text": [
        "\n",
        "\n",
        "\n",
        "\n",
        "\n",
        "e its usual height, stood out in relief \n",
        "thrown back, and he stood in the attitud\n",
        " around; Haidee was standing pale, motio\n",
        "\n"
       ]
      }
     ],
     "prompt_number": 25
    },
    {
     "cell_type": "code",
     "collapsed": false,
     "input": [
      "f = open('pg1184.txt')\n",
      "text = f.read()\n",
      "word_list = []\n",
      "for word in text.split():\n",
      "\tword.lower()\n",
      "\tmatch = re.match(r'^(in)',word)\n",
      "\tif match and len(word[2:]) != 0:\n",
      "\t\tword_list.append(word[2:])\n",
      "print \"visible\" in word_list\n",
      "print word_list[:70]"
     ],
     "language": "python",
     "metadata": {},
     "outputs": [
      {
       "output_type": "stream",
       "stream": "stdout",
       "text": [
        "True\n",
        "['cluded', 'to', 'stinct', 'ner', 'to', 'to', 'quired', 'to', 'quired', 'terrupted', 'vitation.', 'solent', 'terests', 'struction', 'variably', 'stead', 'stantly', 'quire', 'structions', 'to', 'structions,', 'to', 'to', 'quiries', 'spectors', 'quired', 'quired', 'quiring', 'tention', 'to', 'sinuate', 'to', 'quired', 'stead', 'jury\"--', 'quired.', 'to', 'sinuating', 'vite', 'quired', 'solent', 'to', 'duce', 'to', 'habited', 'termarrying,', 'termarry?\"', 'cluded', 'heritance', 'stead', 'constant,', 'stead', 'constancy', 'sinuate,', 'to', 'to', 'to', 'tense', 'quired,', 'stead', 'nermost', 'quire', 'to', 'to', 'to', 'to', 'terruption.', 'vited,', 'vited!\"', 'to']\n"
       ]
      }
     ],
     "prompt_number": 36
    },
    {
     "cell_type": "code",
     "collapsed": false,
     "input": [],
     "language": "python",
     "metadata": {},
     "outputs": []
    }
   ],
   "metadata": {}
  }
 ]
}
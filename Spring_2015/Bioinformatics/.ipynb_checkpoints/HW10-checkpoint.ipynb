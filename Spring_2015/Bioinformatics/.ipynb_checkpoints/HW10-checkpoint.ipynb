{
 "metadata": {
  "name": "",
  "signature": "sha256:2b2abfab1315a8dd1801662b3a27ced3e10852d4d2c757f6c391fd99cc8d95f7"
 },
 "nbformat": 3,
 "nbformat_minor": 0,
 "worksheets": [
  {
   "cells": [
    {
     "cell_type": "heading",
     "level": 1,
     "metadata": {},
     "source": [
      "Homework 10"
     ]
    },
    {
     "cell_type": "markdown",
     "metadata": {},
     "source": [
      "Manav Mandhani, mm58926"
     ]
    },
    {
     "cell_type": "markdown",
     "metadata": {},
     "source": [
      "**This homework is due on April 21, 2015 by 12:30 pm.** You may turn in the assignment in one of the following formats (on Canvas):\n",
      "\n",
      "+ The completed iPython Notebook in its current \".ipynb\" format\n",
      "+ The completed iPython Notebook converted to HTML or PDF\n",
      "+ A well-commented python script\n",
      "\n",
      "<br><br>"
     ]
    },
    {
     "cell_type": "markdown",
     "metadata": {},
     "source": [
      "**Problem 1 (6 points):** \n",
      "Most genes in the *E. coli* genome start with the canonical start codon AGT, but some genes start with other codons, for example GTG. Write a python program that finds all start codons that exist in the *E. coli* genome and that counts how often each start codon is used. The program should then save the results into a csv file that can be used from R. \n",
      "\n",
      "Hints:\n",
      "- Start with the code from Class 21, Exercise 3, available [here.](http://wilkelab.org/classes/SDS348/2015_spring_worksheets/class21_solutions.html)\n",
      "- Running the code over the entire genome can take a while. First make sure that the code works correctly, by limiting the loop to a small number of genes as we did in class 21. Once you are satisifed with your code, let it run over the entire genome.\n",
      "- Writing data to csv files was discussed in the discussion section on April 8."
     ]
    },
    {
     "cell_type": "code",
     "collapsed": false,
     "input": [
      "from Bio import Entrez, SeqIO\n",
      "Entrez.email = \"wilke@austin.utexas.edu\" # put your email here\n",
      "\n",
      "# Download E. coli K12 genome:\n",
      "download_handle = Entrez.efetch(db=\"nucleotide\", id=\"CP009685\", rettype=\"gb\", retmode=\"text\")\n",
      "data = download_handle.read()\n",
      "download_handle.close()\n",
      "\n",
      "# Store data into file \"Ecoli_K12.gb\":\n",
      "out_handle = open(\"Ecoli_K12.gb\", \"w\")\n",
      "out_handle.write(data)\n",
      "out_handle.close()"
     ],
     "language": "python",
     "metadata": {},
     "outputs": [],
     "prompt_number": 3
    },
    {
     "cell_type": "code",
     "collapsed": false,
     "input": [
      "in_handle = open(\"Ecoli_K12.gb\", \"r\")\n",
      "record = SeqIO.read(in_handle, \"genbank\")\n",
      "in_handle.close()\n",
      "\n",
      "imax = 10000 # number of CDSs to print\n",
      "i = 0\n",
      "codon_dict = {}\n",
      "for feature in record.features:\n",
      "    if feature.type == 'CDS':\n",
      "#         print feature.qualifiers[\"locus_tag\"][0]\n",
      "#         print feature.location\n",
      "        seq = feature.location.extract(record).seq\n",
      "        start = str(seq[:3])\n",
      "        if start in codon_dict.keys():\n",
      "            codon_dict[start] += 1\n",
      "        else:\n",
      "            codon_dict[start] = 1\n",
      "#         print seq.translate()\n",
      "#         print\n",
      "        i += 1\n",
      "    if i >= imax:\n",
      "        break\n",
      "for i in codon_dict.keys():\n",
      "    print i, codon_dict[i]"
     ],
     "language": "python",
     "metadata": {},
     "outputs": [
      {
       "output_type": "stream",
       "stream": "stdout",
       "text": [
        "ATG 3904\n",
        "ATC 3\n",
        "GTG 349\n",
        "ATA 4\n",
        "ATT 3\n",
        "CTG 5\n",
        "TTG 123\n"
       ]
      }
     ],
     "prompt_number": 22
    },
    {
     "cell_type": "code",
     "collapsed": false,
     "input": [
      "# Open a file to write our information to\n",
      "write_handle = open(\"Ecoli_K12.csv\", \"w\") # \"w\" flag means open for writing\n",
      "\n",
      "# Write a header line to the file\n",
      "write_handle.write(\"Codon,Occurances\\n\") # \\n means \"new line\" (enter/return)\n",
      "\n",
      "# Write each key: value pair to a line in the file\n",
      "for key in codon_dict:\n",
      "    \n",
      "    # Define line to write to file. This should be a *string*!! \n",
      "    # Use + to add parts together, and str() to make sure everything you write is a string\n",
      "    output = str(key) + \",\" + str(codon_dict[key]) + \"\\n\"\n",
      "    \n",
      "    # write output to file\n",
      "    write_handle.write(output)\n",
      "\n",
      "# Now that we've written to the file, close it!\n",
      "write_handle.close()    "
     ],
     "language": "python",
     "metadata": {},
     "outputs": [],
     "prompt_number": 26
    },
    {
     "cell_type": "code",
     "collapsed": false,
     "input": [
      "read_handle = open(\"Ecoli_K12.csv\", \"r\") # \"r\" flag means open for reading\n",
      "lines = read_handle.readlines()\n",
      "read_handle.close()\n",
      "\n",
      "# Print first 6 lines, just to be sure\n",
      "for i in range(6):\n",
      "    print lines[i]"
     ],
     "language": "python",
     "metadata": {},
     "outputs": [
      {
       "output_type": "stream",
       "stream": "stdout",
       "text": [
        "Codon,Occurances\n",
        "\n",
        "ATG,3904\n",
        "\n",
        "ATC,3\n",
        "\n",
        "GTG,349\n",
        "\n",
        "ATA,4\n",
        "\n",
        "ATT,3\n",
        "\n"
       ]
      }
     ],
     "prompt_number": 27
    },
    {
     "cell_type": "markdown",
     "metadata": {},
     "source": [
      "**Problem 2 (4 points):** \n",
      "Take the csv file you created under Problem 1, read it into R, and make a barplot of your results. Then discuss your results in 2-3 sentences. Submit this part of the homework as a pdf created from an R Markdown file."
     ]
    }
   ],
   "metadata": {}
  }
 ]
}
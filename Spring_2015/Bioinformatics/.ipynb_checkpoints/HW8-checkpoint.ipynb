{
 "metadata": {
  "name": "",
  "signature": "sha256:a61f17271aa520672b1b2ea85766c9a075c75dda2a6733f3b3fa64352675698a"
 },
 "nbformat": 3,
 "nbformat_minor": 0,
 "worksheets": [
  {
   "cells": [
    {
     "cell_type": "heading",
     "level": 1,
     "metadata": {},
     "source": [
      "Homework 8"
     ]
    },
    {
     "cell_type": "markdown",
     "metadata": {},
     "source": [
      "*Manav Mandhani, mm58926*"
     ]
    },
    {
     "cell_type": "markdown",
     "metadata": {},
     "source": [
      "**This homework is due on April 7, 2015 by 12:30 pm.** You may turn in the assignment in one of the following formats (on Canvas):\n",
      "\n",
      "+ The completed iPython Notebook in its current \".ipynb\" format\n",
      "+ The completed iPython Notebook converted to HTML or PDF\n",
      "+ A well-commented python script\n",
      "\n",
      "<br><br>"
     ]
    },
    {
     "cell_type": "markdown",
     "metadata": {},
     "source": [
      "**Question 1 (5 points):** The list `mylist` defined below contains 10 entries, some of which are numbers (integers and floats) and some of which are strings. For this question, you will determine the mean value for all numeric entries in this list. To accomplish this goal, write a for-loop that iterates over each entry in the list. Your code should print a final statement that reads, \"The mean of all numbers in the list is X\" (where X has been properly replaced with the mean).\n",
      "\n",
      "Hint - when solving this question, these functions may be useful: type(), len(), and sum()."
     ]
    },
    {
     "cell_type": "code",
     "collapsed": false,
     "input": [
      "# Answer for question 1 goes here.\n",
      "mylist = [\"hello\", 89.21, -3, \"goodbye\", 21, 0.0056, -12.34, \"thank you\", \"please\", 999.44409]\n",
      "new_list = []\n",
      "for i in mylist:\n",
      "    if type(i) == int or type(i) == float:\n",
      "        new_list.append(i)\n",
      "print \"The mean of all the numbers in the list is\", sum(new_list)/len(new_list)"
     ],
     "language": "python",
     "metadata": {},
     "outputs": [
      {
       "output_type": "stream",
       "stream": "stdout",
       "text": [
        "[89.21, -3, 21, 0.0056, -12.34, 999.44409]\n",
        "The mean of all the numbers in the list is 182.386615\n"
       ]
      }
     ],
     "prompt_number": 6
    },
    {
     "cell_type": "markdown",
     "metadata": {},
     "source": [
      "<br><br>\n",
      "\n",
      "**Question 2 (5 points):** Write a function to calculate the counts of A's, C's, G's, and T's in a DNA sequence. Your function should take a single argument (a string of a DNA sequence) and return a dictionary of nucleotide counts. For example, if the argument `\"ACGTACGT\"` is provided, the function should return this dictionary: `{\"A\":2, \"C\":2, \"G\":2, \"T\":2}`. Once your function has been written, run the function on the the provided dna_string string given below, and print the returned dictionary.\n",
      "\n",
      "Hint - use the string method .count() as part of your solution."
     ]
    },
    {
     "cell_type": "code",
     "collapsed": false,
     "input": [
      "# Answer for question 2 goes here.\n",
      "\n",
      "# Variable to call the function on:\n",
      "dna_string = \"ATCGAGCTATACCGATACAGGCTGGTATAAAAGATTC\"\n",
      "\n",
      "def calculate_occurances(string):\n",
      "    string_dict = {}\n",
      "    for i in dna_string:\n",
      "        if i in string_dict:\n",
      "            string_dict[i] += 1\n",
      "        else:\n",
      "            string_dict[i] = 1\n",
      "    return string_dict\n",
      "\n",
      "calculate_occurances(dna_string)"
     ],
     "language": "python",
     "metadata": {},
     "outputs": [
      {
       "metadata": {},
       "output_type": "pyout",
       "prompt_number": 8,
       "text": [
        "{'A': 13, 'C': 7, 'G': 8, 'T': 9}"
       ]
      }
     ],
     "prompt_number": 8
    },
    {
     "cell_type": "code",
     "collapsed": false,
     "input": [],
     "language": "python",
     "metadata": {},
     "outputs": []
    }
   ],
   "metadata": {}
  }
 ]
}
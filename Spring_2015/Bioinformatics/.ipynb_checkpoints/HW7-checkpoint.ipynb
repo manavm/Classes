{
 "metadata": {
  "name": "",
  "signature": "sha256:cc9fd71d63cc0da457f87d0577227fa46caf583b1a1ab89c5a5e17a27794d548"
 },
 "nbformat": 3,
 "nbformat_minor": 0,
 "worksheets": [
  {
   "cells": [
    {
     "cell_type": "heading",
     "level": 1,
     "metadata": {},
     "source": [
      "Homework 7"
     ]
    },
    {
     "cell_type": "markdown",
     "metadata": {},
     "source": [
      "*Manav Mandhani, mm58926*"
     ]
    },
    {
     "cell_type": "markdown",
     "metadata": {},
     "source": [
      "**This homework is due on March 26, 2015 by 12:30 pm.** You may turn in the assignment in any of the following formats (on Canvas):\n",
      "\n",
      "+ The completed iPython Notebook in its current \".ipynb\" format\n",
      "+ The completed iPython Notebook converted to HTML or PDF\n",
      "+ A well-commented python script\n",
      "\n",
      "<br><br>"
     ]
    },
    {
     "cell_type": "markdown",
     "metadata": {},
     "source": [
      "**Question 1 (5 points):** Using only list indexing and the string function `split()`, write code that extracts the weight (here the number 7) from the string `data` defined below, and print out the result. What is the type of your final result? Use python to find out."
     ]
    },
    {
     "cell_type": "code",
     "collapsed": false,
     "input": [
      "data_string = \"height: 15; weight: 7; width: 5;\"\n",
      "\n",
      "weight = data_string.split()[3][:1]\n",
      "print weight\n",
      "print type(weight)"
     ],
     "language": "python",
     "metadata": {},
     "outputs": [
      {
       "output_type": "stream",
       "stream": "stdout",
       "text": [
        "7\n",
        "<type 'str'>\n"
       ]
      }
     ],
     "prompt_number": 3
    },
    {
     "cell_type": "markdown",
     "metadata": {},
     "source": [
      "**Question 2 (5 points):** Using only string indexing, write code that does each of the following. In each case, store the result in a new variable and print its contents.\n",
      "\n",
      "- Extract the first 10 characters from the string `data_string`.\n",
      "- Extract characters 27 to 52 (corresponding to the upper-case letters of the alphabet) from the string `data_string`.\n",
      "- Extract characters 1 to 26 (corresponding to the lower-case letters of the alphabet) and characters 53 to 62 (corresponding to the numbers) from the string `data_string` and combine them into a single, new string that should look like this: \"abcdefghijklmnopqrstuvwxyz0123456789\"\n",
      "- Replace the letter at position 5 in `data_string` (the lower-case e) with a captial X. Do **not** use the function `replace()`.\n",
      "- Take the resulting string from the previous point and convert it all to upper case."
     ]
    },
    {
     "cell_type": "code",
     "collapsed": false,
     "input": [
      "data_string = \"abcdefghijklmnopqrstuvwxyzABCDEFGHIJKLMNOPQRSTUVWXYZ0123456789\"\n",
      "\n",
      "first_ten = data_string[:10]\n",
      "print first_ten\n",
      "next_chars = data_string[26:52]\n",
      "print next_chars\n",
      "combined = data_string[:26] + data_string[52:62]\n",
      "print combined\n",
      "data_string = data_string[:4] + \"X\" + data_string[5:]\n",
      "print data_string\n",
      "upper_string = data_string.upper()\n",
      "print upper_string"
     ],
     "language": "python",
     "metadata": {},
     "outputs": [
      {
       "output_type": "stream",
       "stream": "stdout",
       "text": [
        "abcdefghij\n",
        "ABCDEFGHIJKLMNOPQRSTUVWXYZ\n",
        "abcdefghijklmnopqrstuvwxyz0123456789\n",
        "abcdXfghijklmnopqrstuvwxyzABCDEFGHIJKLMNOPQRSTUVWXYZ0123456789\n",
        "ABCDXFGHIJKLMNOPQRSTUVWXYZABCDEFGHIJKLMNOPQRSTUVWXYZ0123456789\n"
       ]
      }
     ],
     "prompt_number": 15
    },
    {
     "cell_type": "code",
     "collapsed": false,
     "input": [],
     "language": "python",
     "metadata": {},
     "outputs": []
    }
   ],
   "metadata": {}
  }
 ]
}